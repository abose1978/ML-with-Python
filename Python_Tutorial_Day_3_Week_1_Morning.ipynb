{
 "cells": [
  {
   "cell_type": "markdown",
   "source": [
    "<h2 style=\"color:blue;\">Python Conditions and If statements</h2>"
   ],
   "metadata": {}
  },
  {
   "cell_type": "markdown",
   "source": [
    "<p>Python supports the usual logical conditions from mathematics:</p>\r\n",
    "<ul>\r\n",
    "<li>Equals: a == b</li>\r\n",
    "<li>Not Equals: a != b</li>\r\n",
    "<li>Less than: a < b</li>\r\n",
    "<li>Less than or equal to: a <= b</li>\r\n",
    "<li>Greater than: a > b</li>\r\n",
    "<li>Greater than or equal to: a >= b</li>\r\n",
    "</ul>\r\n",
    "<p>These conditions can be used in several ways, most commonly in \"if statements\" and loops.</p>\r\n",
    "<p>An \"if statement\" is written by using the <i>if</i> keyword.</p>"
   ],
   "metadata": {}
  },
  {
   "cell_type": "code",
   "execution_count": null,
   "source": [
    "a = 33\r\n",
    "b = 200\r\n",
    "if b > a:\r\n",
    "  print(\"b is greater than a\")"
   ],
   "outputs": [],
   "metadata": {}
  },
  {
   "cell_type": "markdown",
   "source": [
    "<p>The <i>elif</i> keyword is pythons way of saying \"if the previous conditions were not true, then try this condition\".</p>"
   ],
   "metadata": {}
  },
  {
   "cell_type": "code",
   "execution_count": null,
   "source": [
    "a = 33\r\n",
    "b = 33\r\n",
    "if b > a:\r\n",
    "  print(\"b is greater than a\")\r\n",
    "elif a == b:\r\n",
    "  print(\"a and b are equal\")"
   ],
   "outputs": [],
   "metadata": {}
  },
  {
   "cell_type": "markdown",
   "source": [
    "<p>The <i>else</i> keyword catches anything which isn't caught by the preceding conditions.</p>"
   ],
   "metadata": {}
  },
  {
   "cell_type": "code",
   "execution_count": null,
   "source": [
    "a = 200\r\n",
    "b = 33\r\n",
    "if b > a:\r\n",
    "  print(\"b is greater than a\")\r\n",
    "elif a == b:\r\n",
    "  print(\"a and b are equal\")\r\n",
    "else:\r\n",
    "  print(\"a is greater than b\")"
   ],
   "outputs": [],
   "metadata": {}
  },
  {
   "cell_type": "markdown",
   "source": [
    "<p>If you have only one statement to execute, you can put it on the same line as the if statement.</p>"
   ],
   "metadata": {}
  },
  {
   "cell_type": "code",
   "execution_count": null,
   "source": [
    "if a > b: print(\"a is greater than b\")"
   ],
   "outputs": [],
   "metadata": {}
  },
  {
   "cell_type": "code",
   "execution_count": null,
   "source": [
    "a = 2\r\n",
    "b = 330\r\n",
    "print(\"A\") if a > b else print(\"B\")"
   ],
   "outputs": [],
   "metadata": {}
  },
  {
   "cell_type": "markdown",
   "source": [
    "<p>This technique is known as <i><b>Ternary Operators</b></i>, or <i><b>Conditional Expressions</b></i>."
   ],
   "metadata": {}
  },
  {
   "cell_type": "markdown",
   "source": [
    "<h2 style=\"color:blue;\">AND</h2>\r\n",
    "<p>The <i>and</i> keyword is a logical operator, and is used to combine conditional statements:</p>"
   ],
   "metadata": {}
  },
  {
   "cell_type": "code",
   "execution_count": null,
   "source": [
    "a = 200\r\n",
    "b = 33\r\n",
    "c = 500\r\n",
    "if a > b and c > a:\r\n",
    "  print(\"Both conditions are True\")"
   ],
   "outputs": [],
   "metadata": {}
  },
  {
   "cell_type": "markdown",
   "source": [
    "<h2 style=\"color:blue;\">OR</h2>\r\n",
    "<p>The <i>or</i> keyword is a logical operator, and is used to combine conditional statements:</p>"
   ],
   "metadata": {}
  },
  {
   "cell_type": "code",
   "execution_count": null,
   "source": [
    "a = 200\r\n",
    "b = 33\r\n",
    "c = 500\r\n",
    "if a > b or a > c:\r\n",
    "  print(\"At least one of the conditions is True\")"
   ],
   "outputs": [],
   "metadata": {}
  },
  {
   "cell_type": "markdown",
   "source": [
    "<h2 style=\"color:blue;\">The pass Statement</h2>\r\n",
    "<p>if statements cannot be empty, but if you for some reason have an if statement with no content, put in the <i>pass</i> statement to avoid getting an error.</p>"
   ],
   "metadata": {}
  },
  {
   "cell_type": "code",
   "execution_count": null,
   "source": [
    "a = 33\r\n",
    "b = 200\r\n",
    "\r\n",
    "if b > a:\r\n",
    "  pass"
   ],
   "outputs": [],
   "metadata": {}
  },
  {
   "cell_type": "markdown",
   "source": [
    "<h2 style=\"color:blue;\">Python While Loops</h2>"
   ],
   "metadata": {}
  },
  {
   "cell_type": "code",
   "execution_count": null,
   "source": [
    "i = 1\r\n",
    "while i < 6:\r\n",
    "  print(i)\r\n",
    "  i += 1"
   ],
   "outputs": [],
   "metadata": {}
  },
  {
   "cell_type": "markdown",
   "source": [
    "<h2 style=\"color:blue;\">The break Statement</h2>"
   ],
   "metadata": {}
  },
  {
   "cell_type": "code",
   "execution_count": null,
   "source": [
    "i = 1\r\n",
    "while i < 6:\r\n",
    "  print(i)\r\n",
    "  if i == 3:\r\n",
    "    break\r\n",
    "  i += 1"
   ],
   "outputs": [],
   "metadata": {}
  },
  {
   "cell_type": "markdown",
   "source": [
    "<h2 style=\"color:blue;\">The continue Statement</h2>"
   ],
   "metadata": {}
  },
  {
   "cell_type": "code",
   "execution_count": null,
   "source": [
    "i = 0\r\n",
    "while i < 6:\r\n",
    "  i += 1\r\n",
    "  if i == 3:\r\n",
    "    continue\r\n",
    "  print(i)"
   ],
   "outputs": [],
   "metadata": {}
  },
  {
   "cell_type": "markdown",
   "source": [
    "<h2 style=\"color:blue;\">The else Statement</h2>\r\n",
    "<p>With the <i>else</i> statement we can run a block of code once when the condition no longer is true:</p>"
   ],
   "metadata": {}
  },
  {
   "cell_type": "code",
   "execution_count": null,
   "source": [
    "i = 1\r\n",
    "while i < 6:\r\n",
    "  print(i)\r\n",
    "  i += 1\r\n",
    "else:\r\n",
    "  print(\"i is no longer less than 6\")"
   ],
   "outputs": [],
   "metadata": {}
  },
  {
   "cell_type": "markdown",
   "source": [
    "<h2 style=\"color:blue;\">Python For Loops</h2>\r\n",
    "<p>A for loop is used for iterating over a sequence (that is either a list, a tuple, a dictionary, a set, or a string).\r\n",
    "\r\n",
    "This is less like the for keyword in other programming languages, and works more like an iterator method as found in other object-orientated programming languages.\r\n",
    "\r\n",
    "With the for loop we can execute a set of statements, once for each item in a list, tuple, set etc.</P>"
   ],
   "metadata": {}
  },
  {
   "cell_type": "code",
   "execution_count": null,
   "source": [
    "fruits = [\"apple\", \"banana\", \"cherry\"]\r\n",
    "for x in fruits:\r\n",
    "  print(x)"
   ],
   "outputs": [],
   "metadata": {}
  },
  {
   "cell_type": "code",
   "execution_count": null,
   "source": [
    "for x in \"banana\":\r\n",
    "  print(x, end='\\t')"
   ],
   "outputs": [],
   "metadata": {}
  },
  {
   "cell_type": "markdown",
   "source": [
    "<h2 style=\"color:blue;\">Else in For Loop</h2>"
   ],
   "metadata": {}
  },
  {
   "cell_type": "code",
   "execution_count": null,
   "source": [
    "for x in range(6):\r\n",
    "  print(x)\r\n",
    "else:\r\n",
    "  print(\"Finally finished!\")"
   ],
   "outputs": [],
   "metadata": {}
  },
  {
   "cell_type": "code",
   "execution_count": null,
   "source": [
    "for x in range(6):\r\n",
    "  if x == 3: break\r\n",
    "  print(x)\r\n",
    "else:\r\n",
    "  print(\"Finally finished!\")"
   ],
   "outputs": [],
   "metadata": {}
  },
  {
   "cell_type": "markdown",
   "source": [
    "<h3>Write a for loop which appends the square of each number to the new list.</h3>"
   ],
   "metadata": {}
  },
  {
   "cell_type": "code",
   "execution_count": null,
   "source": [
    "lst1 = [3, 6, 7, 8, 9, 11, 15, 25]\r\n",
    "lst2 = []\r\n",
    "\r\n"
   ],
   "outputs": [],
   "metadata": {}
  },
  {
   "cell_type": "markdown",
   "source": [
    "<h3>Using for loop and if statement, append the value minus 1000 for each key to the new list if the value is above 1000. i.e.: if the value is 1500, 500 should be added to the new list.</h3>"
   ],
   "metadata": {}
  },
  {
   "cell_type": "code",
   "execution_count": null,
   "source": [
    "dict={\"z1\":900, \"t1\": 1100, \"p1\": 2300, \"r1\": 1050, \"k1\": 3200, \"g1\": 400}\r\n",
    "lst=[]"
   ],
   "outputs": [],
   "metadata": {}
  }
 ],
 "metadata": {
  "orig_nbformat": 4,
  "language_info": {
   "name": "python",
   "version": "3.8.5",
   "mimetype": "text/x-python",
   "codemirror_mode": {
    "name": "ipython",
    "version": 3
   },
   "pygments_lexer": "ipython3",
   "nbconvert_exporter": "python",
   "file_extension": ".py"
  },
  "kernelspec": {
   "name": "python3",
   "display_name": "Python 3.8.5 64-bit"
  },
  "interpreter": {
   "hash": "8f6263d6dd6da3673ccb93a227fa2dc5ed496a0b36b884ff80890839b0d7ecb1"
  }
 },
 "nbformat": 4,
 "nbformat_minor": 2
}