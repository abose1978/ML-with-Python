{
 "cells": [
  {
   "cell_type": "markdown",
   "source": [
    "<h1 style=\"color:blue;\">Matplotlib Tutorial<h1>"
   ],
   "metadata": {}
  },
  {
   "cell_type": "markdown",
   "source": [
    "<h2>What is Matplotlib?</h2>\r\n",
    "<p>Matplotlib is a low level graph plotting library in python that serves as a visualization utility. Matplotlib was created by John D. Hunter. Matplotlib is open source and we can use it freely. Matplotlib is mostly written in python, a few segments are written in C, Objective-C and Javascript for Platform compatibility.</p>"
   ],
   "metadata": {}
  },
  {
   "cell_type": "markdown",
   "source": [
    "<h2>Installation of Matplotlib</h2>\r\n",
    "<code>pip install matplotlib</code>"
   ],
   "metadata": {}
  },
  {
   "cell_type": "markdown",
   "source": [
    "<li style=\"font-size:15px;\">Draw a line in a diagram from position (0,0) to position (6,250)</li>"
   ],
   "metadata": {}
  },
  {
   "cell_type": "code",
   "execution_count": null,
   "source": [
    "import matplotlib.pyplot as plt\r\n",
    "import numpy as np\r\n",
    "\r\n",
    "xpoints = np.array([0, 6])\r\n",
    "ypoints = np.array([0, 250])\r\n",
    "\r\n",
    "plt.plot(xpoints, ypoints)\r\n",
    "plt.show()"
   ],
   "outputs": [],
   "metadata": {}
  },
  {
   "cell_type": "markdown",
   "source": [
    "<li style=\"font-size:15px;\">The x-axis is the horizontal axis.</li>\r\n",
    "\r\n",
    "<li style=\"font-size:15px;\">The y-axis is the vertical axis.</li>"
   ],
   "metadata": {}
  },
  {
   "cell_type": "code",
   "execution_count": null,
   "source": [
    "import matplotlib.pyplot as plt\r\n",
    "import numpy as np\r\n",
    "\r\n",
    "xpoints = np.array([1, 8])\r\n",
    "ypoints = np.array([3, 10])\r\n",
    "\r\n",
    "plt.plot(xpoints, ypoints, 'o')\r\n",
    "plt.show()"
   ],
   "outputs": [],
   "metadata": {}
  },
  {
   "cell_type": "code",
   "execution_count": null,
   "source": [
    "import matplotlib.pyplot as plt\r\n",
    "import numpy as np\r\n",
    "\r\n",
    "xpoints = np.array([1, 2, 6, 8])\r\n",
    "ypoints = np.array([3, 8, 1, 10])\r\n",
    "\r\n",
    "plt.plot(xpoints, ypoints, marker = 'o')\r\n",
    "plt.show()"
   ],
   "outputs": [],
   "metadata": {}
  },
  {
   "cell_type": "markdown",
   "source": [
    "<p style=\"word-spacing:30px;\">Marker\tDescription</p>\r\n",
    "<ul style=\"word-spacing:30px;\">\r\n",
    "<li>'o'\t    Circle</li>\t\r\n",
    "<li>'*'\t    Star</li>\t\r\n",
    "<li>'.'\t    Point</li>\t\r\n",
    "<li>','\t    Pixel</li>\t\r\n",
    "<li>'x'\t    X</li>\t\r\n",
    "<li>'X'\t    X (filled)</li>\t\r\n",
    "<li>'+'\t    Plus</li>\t\r\n",
    "<li>'P'\t    Plus (filled)</li>\t\r\n",
    "<li>'s'\t    Square</li>\t\r\n",
    "<li>'D'\t    Diamond</li>\t\r\n",
    "<li>'d'\t    Diamond (thin)</li>\t\r\n",
    "<li>'p'\t    Pentagon</li>\t\r\n",
    "<li>'H'\t    Hexagon</li>\t\r\n",
    "<li>'h'\t    Hexagon</li>\t\r\n",
    "<li>'v'\t    Triangle Down</li>\t\r\n",
    "<li>'^'\t    Triangle Up</li>\t\r\n",
    "<li>'<'\t    Triangle Left</li>\t\r\n",
    "<li>'>'\t    Triangle Right</li>\t\r\n",
    "<li>'1'\t    Tri Down</li>\t\r\n",
    "<li>'2'\t    Tri Up</li>\t\r\n",
    "<li>'3'\t    Tri Left</li>\t\r\n",
    "<li>'4'\t    Tri Right</li>\t\r\n",
    "<li>'|'\t    Vline</li>\t\r\n",
    "<li>'_'\t    Hline</li>\r\n",
    "</ul>"
   ],
   "metadata": {}
  },
  {
   "cell_type": "code",
   "execution_count": null,
   "source": [
    "import matplotlib.pyplot as plt\r\n",
    "import numpy as np\r\n",
    "\r\n",
    "ypoints = np.array([3, 8, 1, 10])\r\n",
    "\r\n",
    "plt.plot(ypoints, marker = 'o', ms = 20, mec = 'g', mfc = 'r')\r\n",
    "plt.show()"
   ],
   "outputs": [],
   "metadata": {}
  },
  {
   "cell_type": "markdown",
   "source": [
    "<h2>Line Style</h2>"
   ],
   "metadata": {}
  },
  {
   "cell_type": "code",
   "execution_count": null,
   "source": [
    "import matplotlib.pyplot as plt\r\n",
    "import numpy as np\r\n",
    "\r\n",
    "ypoints = np.array([3, 8, 1, 10])\r\n",
    "\r\n",
    "plt.plot(ypoints, linestyle = 'dotted')\r\n",
    "plt.show()"
   ],
   "outputs": [],
   "metadata": {}
  },
  {
   "cell_type": "markdown",
   "source": [
    "<h2>Line Color</h2>"
   ],
   "metadata": {}
  },
  {
   "cell_type": "code",
   "execution_count": null,
   "source": [
    "import matplotlib.pyplot as plt\r\n",
    "import numpy as np\r\n",
    "\r\n",
    "ypoints = np.array([3, 8, 1, 10])\r\n",
    "\r\n",
    "plt.plot(ypoints, color = 'r')\r\n",
    "plt.show()"
   ],
   "outputs": [],
   "metadata": {}
  },
  {
   "cell_type": "markdown",
   "source": [
    "<h2>Line Width</h2>"
   ],
   "metadata": {}
  },
  {
   "cell_type": "code",
   "execution_count": null,
   "source": [
    "import matplotlib.pyplot as plt\r\n",
    "import numpy as np\r\n",
    "\r\n",
    "ypoints = np.array([3, 8, 1, 10])\r\n",
    "\r\n",
    "plt.plot(ypoints, linewidth = '20.5')\r\n",
    "plt.show()"
   ],
   "outputs": [],
   "metadata": {}
  },
  {
   "cell_type": "markdown",
   "source": [
    "<h2>Multiple Lines</h2>"
   ],
   "metadata": {}
  },
  {
   "cell_type": "code",
   "execution_count": null,
   "source": [
    "import matplotlib.pyplot as plt\r\n",
    "import numpy as np\r\n",
    "\r\n",
    "y1 = np.array([3, 8, 1, 10])\r\n",
    "y2 = np.array([6, 2, 7, 11])\r\n",
    "\r\n",
    "plt.plot(y1)\r\n",
    "plt.plot(y2)\r\n",
    "\r\n",
    "plt.show()"
   ],
   "outputs": [],
   "metadata": {}
  },
  {
   "cell_type": "markdown",
   "source": [
    "<h2>Matplotlib Labels and Title</h2>"
   ],
   "metadata": {}
  },
  {
   "cell_type": "code",
   "execution_count": null,
   "source": [
    "import numpy as np\r\n",
    "import matplotlib.pyplot as plt\r\n",
    "\r\n",
    "x = np.array([80, 85, 90, 95, 100, 105, 110, 115, 120, 125])\r\n",
    "y = np.array([240, 250, 260, 270, 280, 290, 300, 310, 320, 330])\r\n",
    "\r\n",
    "plt.plot(x, y)\r\n",
    "\r\n",
    "plt.xlabel(\"Average Pulse\")\r\n",
    "plt.ylabel(\"Calorie Burnage\")\r\n",
    "\r\n",
    "plt.show()"
   ],
   "outputs": [],
   "metadata": {}
  },
  {
   "cell_type": "markdown",
   "source": [
    "<h2>Title for a Plot</h2>"
   ],
   "metadata": {}
  },
  {
   "cell_type": "code",
   "execution_count": null,
   "source": [
    "import numpy as np\r\n",
    "import matplotlib.pyplot as plt\r\n",
    "\r\n",
    "x = np.array([80, 85, 90, 95, 100, 105, 110, 115, 120, 125])\r\n",
    "y = np.array([240, 250, 260, 270, 280, 290, 300, 310, 320, 330])\r\n",
    "\r\n",
    "plt.plot(x, y)\r\n",
    "\r\n",
    "plt.title(\"Sports Watch Data\")\r\n",
    "plt.xlabel(\"Average Pulse\")\r\n",
    "plt.ylabel(\"Calorie Burnage\")\r\n",
    "\r\n",
    "plt.show()"
   ],
   "outputs": [],
   "metadata": {}
  },
  {
   "cell_type": "markdown",
   "source": [
    "<h2>Font Properties for Title and Labels</h2>"
   ],
   "metadata": {}
  },
  {
   "cell_type": "code",
   "execution_count": null,
   "source": [
    "import numpy as np\r\n",
    "import matplotlib.pyplot as plt\r\n",
    "\r\n",
    "x = np.array([80, 85, 90, 95, 100, 105, 110, 115, 120, 125])\r\n",
    "y = np.array([240, 250, 260, 270, 280, 290, 300, 310, 320, 330])\r\n",
    "\r\n",
    "font1 = {'family':'verdana','color':'blue','size':20}\r\n",
    "font2 = {'family':'serif','color':'darkred','size':15}\r\n",
    "\r\n",
    "plt.title(\"Sports Watch Data\", fontdict = font1)\r\n",
    "plt.xlabel(\"Average Pulse\", fontdict = font2)\r\n",
    "plt.ylabel(\"Calorie Burnage\", fontdict = font2)\r\n",
    "\r\n",
    "plt.plot(x, y)\r\n",
    "plt.show()"
   ],
   "outputs": [],
   "metadata": {}
  },
  {
   "cell_type": "markdown",
   "source": [
    "<h2>Position the Title</h2>"
   ],
   "metadata": {}
  },
  {
   "cell_type": "code",
   "execution_count": null,
   "source": [
    "import numpy as np\r\n",
    "import matplotlib.pyplot as plt\r\n",
    "\r\n",
    "x = np.array([80, 85, 90, 95, 100, 105, 110, 115, 120, 125])\r\n",
    "y = np.array([240, 250, 260, 270, 280, 290, 300, 310, 320, 330])\r\n",
    "\r\n",
    "plt.title(\"Sports Watch Data\", loc = 'left')\r\n",
    "plt.xlabel(\"Average Pulse\")\r\n",
    "plt.ylabel(\"Calorie Burnage\")\r\n",
    "\r\n",
    "plt.plot(x, y)\r\n",
    "plt.show()"
   ],
   "outputs": [],
   "metadata": {}
  },
  {
   "cell_type": "markdown",
   "source": [
    "<h2>Matplotlib Adding Grid Lines</h2>"
   ],
   "metadata": {}
  },
  {
   "cell_type": "code",
   "execution_count": null,
   "source": [
    "import numpy as np\r\n",
    "import matplotlib.pyplot as plt\r\n",
    "\r\n",
    "x = np.array([80, 85, 90, 95, 100, 105, 110, 115, 120, 125])\r\n",
    "y = np.array([240, 250, 260, 270, 280, 290, 300, 310, 320, 330])\r\n",
    "\r\n",
    "plt.title(\"Sports Watch Data\")\r\n",
    "plt.xlabel(\"Average Pulse\")\r\n",
    "plt.ylabel(\"Calorie Burnage\")\r\n",
    "\r\n",
    "plt.plot(x, y)\r\n",
    "\r\n",
    "plt.grid()\r\n",
    "\r\n",
    "plt.show()"
   ],
   "outputs": [],
   "metadata": {}
  },
  {
   "cell_type": "markdown",
   "source": [
    "<h2>Grid Lines to Display</h2>"
   ],
   "metadata": {}
  },
  {
   "cell_type": "code",
   "execution_count": null,
   "source": [
    "import numpy as np\r\n",
    "import matplotlib.pyplot as plt\r\n",
    "\r\n",
    "x = np.array([80, 85, 90, 95, 100, 105, 110, 115, 120, 125])\r\n",
    "y = np.array([240, 250, 260, 270, 280, 290, 300, 310, 320, 330])\r\n",
    "\r\n",
    "plt.title(\"Sports Watch Data\")\r\n",
    "plt.xlabel(\"Average Pulse\")\r\n",
    "plt.ylabel(\"Calorie Burnage\")\r\n",
    "\r\n",
    "plt.plot(x, y)\r\n",
    "\r\n",
    "plt.grid(axis = 'x')\r\n",
    "\r\n",
    "plt.show()"
   ],
   "outputs": [],
   "metadata": {}
  },
  {
   "cell_type": "markdown",
   "source": [
    "<h2>Line Properties for the Grid</h2>"
   ],
   "metadata": {}
  },
  {
   "cell_type": "code",
   "execution_count": null,
   "source": [
    "import numpy as np\r\n",
    "import matplotlib.pyplot as plt\r\n",
    "\r\n",
    "x = np.array([80, 85, 90, 95, 100, 105, 110, 115, 120, 125])\r\n",
    "y = np.array([240, 250, 260, 270, 280, 290, 300, 310, 320, 330])\r\n",
    "\r\n",
    "plt.title(\"Sports Watch Data\")\r\n",
    "plt.xlabel(\"Average Pulse\")\r\n",
    "plt.ylabel(\"Calorie Burnage\")\r\n",
    "\r\n",
    "plt.plot(x, y)\r\n",
    "\r\n",
    "plt.grid(color = 'green', linestyle = '--', linewidth = 0.5)\r\n",
    "\r\n",
    "plt.show()"
   ],
   "outputs": [],
   "metadata": {}
  },
  {
   "cell_type": "markdown",
   "source": [
    "<h2>Matplotlib Subplots</h2>\r\n",
    "\r\n",
    "<p>The <code>subplots()</code> function takes three arguments that describes the layout of the figure. The layout is organized in <i>rows</i> and <i>columns</i>, which are represented by the first and second argument. The third argument represents the <i>index</i> of the current plot.</p>"
   ],
   "metadata": {}
  },
  {
   "cell_type": "code",
   "execution_count": null,
   "source": [
    "import matplotlib.pyplot as plt\r\n",
    "import numpy as np\r\n",
    "\r\n",
    "#plot 1:\r\n",
    "x = np.array([0, 1, 2, 3])\r\n",
    "y = np.array([3, 8, 1, 10])\r\n",
    "\r\n",
    "plt.subplot(1, 2, 1)\r\n",
    "plt.plot(x,y)\r\n",
    "\r\n",
    "#plot 2:\r\n",
    "x = np.array([0, 1, 2, 3])\r\n",
    "y = np.array([10, 20, 30, 40])\r\n",
    "\r\n",
    "plt.subplot(1, 2, 2)\r\n",
    "plt.plot(x,y)\r\n",
    "\r\n",
    "plt.show()"
   ],
   "outputs": [],
   "metadata": {}
  },
  {
   "cell_type": "markdown",
   "source": [
    "<p style=\"font-size: 15px;\">Vertical Plotting</p>"
   ],
   "metadata": {}
  },
  {
   "cell_type": "code",
   "execution_count": null,
   "source": [
    "import matplotlib.pyplot as plt\r\n",
    "import numpy as np\r\n",
    "\r\n",
    "#plot 1:\r\n",
    "x = np.array([0, 1, 2, 3])\r\n",
    "y = np.array([3, 8, 1, 10])\r\n",
    "\r\n",
    "plt.subplot(2, 1, 1)\r\n",
    "plt.plot(x,y)\r\n",
    "\r\n",
    "#plot 2:\r\n",
    "x = np.array([0, 1, 2, 3])\r\n",
    "y = np.array([10, 20, 30, 40])\r\n",
    "\r\n",
    "plt.subplot(2, 1, 2)\r\n",
    "plt.plot(x,y)\r\n",
    "\r\n",
    "plt.show()"
   ],
   "outputs": [],
   "metadata": {}
  },
  {
   "cell_type": "markdown",
   "source": [
    "<p style=\"font-size:15px;\">Adding Title to Each Plot</p>"
   ],
   "metadata": {}
  },
  {
   "cell_type": "code",
   "execution_count": null,
   "source": [
    "import matplotlib.pyplot as plt\r\n",
    "import numpy as np\r\n",
    "\r\n",
    "#plot 1:\r\n",
    "x = np.array([0, 1, 2, 3])\r\n",
    "y = np.array([3, 8, 1, 10])\r\n",
    "\r\n",
    "plt.subplot(1, 2, 1)\r\n",
    "plt.plot(x,y)\r\n",
    "plt.title(\"SALES\")\r\n",
    "\r\n",
    "#plot 2:\r\n",
    "x = np.array([0, 1, 2, 3])\r\n",
    "y = np.array([10, 20, 30, 40])\r\n",
    "\r\n",
    "plt.subplot(1, 2, 2)\r\n",
    "plt.plot(x,y)\r\n",
    "plt.title(\"INCOME\")\r\n",
    "\r\n",
    "plt.show()"
   ],
   "outputs": [],
   "metadata": {}
  },
  {
   "cell_type": "markdown",
   "source": [
    "<p style=\"font-size: 15px;\">Super Title</p>"
   ],
   "metadata": {}
  },
  {
   "cell_type": "code",
   "execution_count": null,
   "source": [
    "import matplotlib.pyplot as plt\r\n",
    "import numpy as np\r\n",
    "\r\n",
    "#plot 1:\r\n",
    "x = np.array([0, 1, 2, 3])\r\n",
    "y = np.array([3, 8, 1, 10])\r\n",
    "\r\n",
    "plt.subplot(1, 2, 1)\r\n",
    "plt.plot(x,y)\r\n",
    "plt.title(\"SALES\")\r\n",
    "\r\n",
    "#plot 2:\r\n",
    "x = np.array([0, 1, 2, 3])\r\n",
    "y = np.array([10, 20, 30, 40])\r\n",
    "\r\n",
    "plt.subplot(1, 2, 2)\r\n",
    "plt.plot(x,y)\r\n",
    "plt.title(\"INCOME\")\r\n",
    "\r\n",
    "plt.suptitle(\"MY SHOP\")\r\n",
    "plt.show()"
   ],
   "outputs": [],
   "metadata": {}
  }
 ],
 "metadata": {
  "orig_nbformat": 4,
  "language_info": {
   "name": "python",
   "version": "3.8.5",
   "mimetype": "text/x-python",
   "codemirror_mode": {
    "name": "ipython",
    "version": 3
   },
   "pygments_lexer": "ipython3",
   "nbconvert_exporter": "python",
   "file_extension": ".py"
  },
  "kernelspec": {
   "name": "python3",
   "display_name": "Python 3.8.5 64-bit ('cs_gpu': venv)"
  },
  "interpreter": {
   "hash": "055c985b3c42157a18398395aaa24b5284454875fde08806019e18e68929a4a2"
  }
 },
 "nbformat": 4,
 "nbformat_minor": 2
}