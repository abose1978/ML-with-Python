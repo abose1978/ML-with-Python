{
 "cells": [
  {
   "cell_type": "markdown",
   "source": [
    "<h1 style=\"color: blue;\">Python Functions</h1>"
   ],
   "metadata": {}
  },
  {
   "cell_type": "markdown",
   "source": [
    "<p style=\"font-family: sans-serif;\"><i>A function is a block of code which only runs when it is called. One can pass data, known as parameters, into a function. A function can return data as a result.</i></p>"
   ],
   "metadata": {}
  },
  {
   "cell_type": "markdown",
   "source": [
    "<h3 style=\"color: green;\">Creating a Function</h3>"
   ],
   "metadata": {}
  },
  {
   "cell_type": "code",
   "execution_count": null,
   "source": [
    "def my_function():\r\n",
    "    print(\"Hello from a function\")\r\n",
    "\r\n",
    "my_function()"
   ],
   "outputs": [],
   "metadata": {}
  },
  {
   "cell_type": "code",
   "execution_count": null,
   "source": [
    "def my_function(fname):\r\n",
    "    print(\"Hello \" + fname+\"!\")\r\n",
    "\r\n",
    "my_function(\"Arti\")\r\n",
    "my_function(\"Swagato\")\r\n",
    "my_function(\"Naitik\") "
   ],
   "outputs": [],
   "metadata": {}
  },
  {
   "cell_type": "code",
   "execution_count": null,
   "source": [
    "def my_function(fname, lname):\r\n",
    "    print(\"Hello \" + fname + \" \" + lname)\r\n",
    "\r\n",
    "my_function(\"Utkarsh\", \"Srivastav\") "
   ],
   "outputs": [],
   "metadata": {}
  },
  {
   "cell_type": "markdown",
   "source": [
    "<h3 style=\"color: green;\">Arbitrary Arguments, *args</h3>"
   ],
   "metadata": {}
  },
  {
   "cell_type": "markdown",
   "source": [
    "<p style=\"font-family: sans-serif;\"><i>If it is not known beforehand that how many arguments will be passed into the function, adding a * before the parameter name in the function definition can resolve this.<br>\n",
    "    This way the function will receive a tuple of arguments, and can access the items accordingly:</i></p>"
   ],
   "metadata": {}
  },
  {
   "cell_type": "code",
   "execution_count": null,
   "source": [
    "def my_function(*kids):\r\n",
    "    print(\"The youngest child is \" + kids[2])\r\n",
    "\r\n",
    "my_function(\"Ajay\", \"Amar\", \"Vishal\") "
   ],
   "outputs": [],
   "metadata": {}
  },
  {
   "cell_type": "markdown",
   "source": [
    "<h3 style=\"color:green;\">Keyword Arguments</h3>"
   ],
   "metadata": {}
  },
  {
   "cell_type": "markdown",
   "source": [
    "<p style=\"font-family: sans-serif;\"><i>arguments can also be sent with the key = value syntax. This way the order of the arguments does not matter.</i></p>"
   ],
   "metadata": {}
  },
  {
   "cell_type": "code",
   "execution_count": null,
   "source": [
    "def my_function(child3, child2, child1):\r\n",
    "    print(\"The youngest child is \" + child3)\r\n",
    "\r\n",
    "my_function(child1 = \"Ajay\", child2 = \"Amar\", child3 = \"Vishal\") "
   ],
   "outputs": [],
   "metadata": {}
  },
  {
   "cell_type": "markdown",
   "source": [
    "<h3 style=\"color:green;\">Arbitrary Keyword Arguments, **kwargs</h3>"
   ],
   "metadata": {}
  },
  {
   "cell_type": "markdown",
   "source": [
    "<p style=\"font-family: sans-serif;\"><i>if it is not known that how many keyword arguments will be passed into the function, addition of two asterisk: ** before the parameter name in the function definition is done.\n",
    "<br>\n",
    "This way the function will receive a dictionary of arguments, and can access the items accordingly:</i></p>"
   ],
   "metadata": {}
  },
  {
   "cell_type": "code",
   "execution_count": null,
   "source": [
    "def my_function(**kid):\r\n",
    "    print(\"His last name is \" + kid[\"lname\"])\r\n",
    "\r\n",
    "my_function(fname = \"Ajay\", lname = \"Sharma\") "
   ],
   "outputs": [],
   "metadata": {}
  },
  {
   "cell_type": "markdown",
   "source": [
    "<h3 style=\"color:green;\">Default Parameter Value</h3>"
   ],
   "metadata": {}
  },
  {
   "cell_type": "code",
   "execution_count": null,
   "source": [
    "def my_function(country = \"Norway\"):\r\n",
    "    print(\"I am from \" + country)\r\n",
    "\r\n",
    "my_function(\"Sweden\")\r\n",
    "my_function(\"India\")\r\n",
    "my_function()\r\n",
    "my_function(\"Brazil\") "
   ],
   "outputs": [],
   "metadata": {}
  },
  {
   "cell_type": "markdown",
   "source": [
    "<h3 style=\"color:green;\">Passing a List as an Argument</h3>"
   ],
   "metadata": {}
  },
  {
   "cell_type": "code",
   "execution_count": null,
   "source": [
    "def my_function(food):\r\n",
    "    for x in food:\r\n",
    "        print(x)\r\n",
    "\r\n",
    "fruits = [\"apple\", \"banana\", \"cherry\"]\r\n",
    "\r\n",
    "my_function(fruits)"
   ],
   "outputs": [],
   "metadata": {}
  },
  {
   "cell_type": "markdown",
   "source": [
    "<h3 style=\"color:green;\">Recursion</h3>"
   ],
   "metadata": {}
  },
  {
   "cell_type": "code",
   "execution_count": null,
   "source": [
    "def factorial(n):\r\n",
    "    print(f\"factorial has been called with n = {n}\")\r\n",
    "    if n == 0:\r\n",
    "        return 1\r\n",
    "    else:\r\n",
    "        res = n * factorial(n-1)\r\n",
    "        print(\"intermediate result for \", n, \" * factorial(\" ,n-1, \"): \",res)\r\n",
    "        return res\r\n",
    "\r\n",
    "print(factorial(5))"
   ],
   "outputs": [],
   "metadata": {}
  },
  {
   "cell_type": "markdown",
   "source": [
    "<h2 style=\"color:blue;\">Python Lambda</h2>"
   ],
   "metadata": {}
  },
  {
   "cell_type": "markdown",
   "source": [
    "<p style=\"font-family:sans-serif;\"><i>A lambda function is a small anonymous function.\n",
    "<br>\n",
    "    A lambda function can take any number of arguments, but can only have one expression.</i></p>"
   ],
   "metadata": {}
  },
  {
   "cell_type": "markdown",
   "source": [
    "<i style=\"font-family:verdana;\">lambda arguments : expression</i>"
   ],
   "metadata": {}
  },
  {
   "cell_type": "code",
   "execution_count": null,
   "source": [
    "x = lambda a : a + 10\r\n",
    "print(x(5)) "
   ],
   "outputs": [],
   "metadata": {}
  },
  {
   "cell_type": "code",
   "execution_count": null,
   "source": [
    "x = lambda a, b : a * b\r\n",
    "print(x(5, 6)) "
   ],
   "outputs": [],
   "metadata": {}
  },
  {
   "cell_type": "markdown",
   "source": [
    "<h3 style=\"color:green;\">Why Use Lambda Functions?</h3>"
   ],
   "metadata": {}
  },
  {
   "cell_type": "markdown",
   "source": [
    "<p style=\"font-family: sans-serif;\"><i>The power of lambda is better shown when one use them as an anonymous function inside another function.<br>\n",
    "\n",
    "Say you have a function definition that takes one argument, and that argument will be multiplied with an unknown number:</i></p>"
   ],
   "metadata": {}
  },
  {
   "cell_type": "code",
   "execution_count": null,
   "source": [
    "def cube(y):\r\n",
    "    return y*y*y\r\n",
    " \r\n",
    "lambda_cube = lambda y: y*y*y\r\n",
    " \r\n",
    "print(cube(5))\r\n",
    "\r\n",
    "print(lambda_cube(5))"
   ],
   "outputs": [],
   "metadata": {}
  },
  {
   "cell_type": "code",
   "execution_count": null,
   "source": [
    "def myfunc(n):\r\n",
    "    return lambda a : a * n \r\n",
    "\r\n",
    "mydoubler = myfunc(2)\r\n",
    "\r\n",
    "print(mydoubler(11))"
   ],
   "outputs": [],
   "metadata": {}
  },
  {
   "cell_type": "code",
   "execution_count": 2,
   "source": [
    "'''The filter() function in Python takes in a function and a \r\n",
    "   list as arguments.'''\r\n",
    "mylist = [5, 7, 22, 97, 54, 62, 77, 23, 73, 61]\r\n",
    " \r\n",
    "intermediate_list = filter(lambda x: (x%2 != 0) , mylist)\r\n",
    "final_list = list(intermediate_list)\r\n",
    "print(intermediate_list)\r\n",
    "print(final_list)"
   ],
   "outputs": [
    {
     "output_type": "stream",
     "name": "stdout",
     "text": [
      "[5, 7, 97, 77, 23, 73, 61]\n",
      "[5, 7, 97, 77, 23, 73, 61]\n"
     ]
    }
   ],
   "metadata": {}
  },
  {
   "cell_type": "code",
   "execution_count": null,
   "source": [],
   "outputs": [],
   "metadata": {}
  }
 ],
 "metadata": {
  "kernelspec": {
   "name": "python3",
   "display_name": "Python 3.8.5 64-bit ('tf_gpu': venv)"
  },
  "language_info": {
   "codemirror_mode": {
    "name": "ipython",
    "version": 3
   },
   "file_extension": ".py",
   "mimetype": "text/x-python",
   "name": "python",
   "nbconvert_exporter": "python",
   "pygments_lexer": "ipython3",
   "version": "3.8.5"
  },
  "varInspector": {
   "cols": {
    "lenName": 16,
    "lenType": 16,
    "lenVar": 40
   },
   "kernels_config": {
    "python": {
     "delete_cmd_postfix": "",
     "delete_cmd_prefix": "del ",
     "library": "var_list.py",
     "varRefreshCmd": "print(var_dic_list())"
    },
    "r": {
     "delete_cmd_postfix": ") ",
     "delete_cmd_prefix": "rm(",
     "library": "var_list.r",
     "varRefreshCmd": "cat(var_dic_list()) "
    }
   },
   "types_to_exclude": [
    "module",
    "function",
    "builtin_function_or_method",
    "instance",
    "_Feature"
   ],
   "window_display": false
  },
  "interpreter": {
   "hash": "21c832c20c74bed9e84f2f6ff58cc7d6a3df328aa871d197150914ab449f3879"
  }
 },
 "nbformat": 4,
 "nbformat_minor": 4
}