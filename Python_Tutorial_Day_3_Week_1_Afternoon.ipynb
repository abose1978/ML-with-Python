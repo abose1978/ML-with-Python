{
 "cells": [
  {
   "cell_type": "markdown",
   "source": [
    "<h1 style=\"color:blue;\">Python User Input</h1>"
   ],
   "metadata": {}
  },
  {
   "cell_type": "markdown",
   "source": [
    "<p>Python allows for user input.\r\n",
    "\r\n",
    "That means we are able to ask the user for input.\r\n",
    "\r\n",
    "Python 3.6 uses the <i>input()</i> method.</p>"
   ],
   "metadata": {}
  },
  {
   "cell_type": "code",
   "execution_count": null,
   "source": [
    "username = input(\"Enter username:\")\r\n",
    "print(\"Username is: \" + username)"
   ],
   "outputs": [],
   "metadata": {}
  },
  {
   "cell_type": "markdown",
   "source": [
    "<h2>Input Type</h2>\r\n",
    "<p>The input function converts all information that it receives into the string format.</p>"
   ],
   "metadata": {}
  },
  {
   "cell_type": "code",
   "execution_count": null,
   "source": [
    "name = input(\"Enter name: \")\r\n",
    "age = input(\"Enter age: \")\r\n",
    "\r\n",
    "print(\"data_type of name: \", type(name))\r\n",
    "print(\"data_type of age: \", type(age))"
   ],
   "outputs": [],
   "metadata": {}
  },
  {
   "cell_type": "markdown",
   "source": [
    "<h2>Accept an integer input from the user</h2>"
   ],
   "metadata": {}
  },
  {
   "cell_type": "code",
   "execution_count": null,
   "source": [
    "num_1 = int(input(\"Enter first num: \"))\r\n",
    "num_2 = int(input(\"Enter second num: \"))\r\n",
    "\r\n",
    "print('Type of num_1:',type(num_1))\r\n",
    "print('Type of num_2:',type(num_2))\r\n",
    "\r\n",
    "result = num_1 + num_2\r\n",
    "print(\"The sum of given numbers is : \", result)"
   ],
   "outputs": [],
   "metadata": {}
  },
  {
   "cell_type": "markdown",
   "source": [
    "<h2>Accept a float input from the user</h2>"
   ],
   "metadata": {}
  },
  {
   "cell_type": "code",
   "execution_count": null,
   "source": [
    "float_1 = float(input(\"Enter value: \"))\r\n",
    "print('Type of float_1:',type(float_1))\r\n",
    "\r\n",
    "result = float_1*2\r\n",
    "print(\"Twice the given numbers is : \", result)"
   ],
   "outputs": [],
   "metadata": {}
  },
  {
   "cell_type": "markdown",
   "source": [
    "<h2>User Input Exception Handling</h2>"
   ],
   "metadata": {}
  },
  {
   "cell_type": "code",
   "execution_count": null,
   "source": [
    "try:\r\n",
    "    num = int(input('Enter a number: '))\r\n",
    "    print('Good job. The entered number is: ', num)\r\n",
    "\r\n",
    "except ValueError:\r\n",
    "    print('This is not a number.')"
   ],
   "outputs": [],
   "metadata": {}
  },
  {
   "cell_type": "markdown",
   "source": [
    "<p style=\"color:green;font-size:15px;\">We can use the exception block along with a loop. Thus, the user will be prompted again and again until they provide valid input.</p>"
   ],
   "metadata": {}
  },
  {
   "cell_type": "code",
   "execution_count": null,
   "source": [
    "while True:\r\n",
    "    try:\r\n",
    "        num = int(input('Enter a number: '))\r\n",
    "        break\r\n",
    "    \r\n",
    "    except ValueError:\r\n",
    "        print('Invalid Input. Try again.')\r\n",
    "        \r\n",
    "print('Good job. The entered number is: ', num)"
   ],
   "outputs": [],
   "metadata": {}
  },
  {
   "cell_type": "markdown",
   "source": [
    "<h2>Multiple input values in a single line</h2>"
   ],
   "metadata": {}
  },
  {
   "cell_type": "code",
   "execution_count": null,
   "source": [
    "name, age, score = input(\"Enter student's name, age and score separated by space:\").split()\r\n",
    "print(\"Student Name:\", name)\r\n",
    "print(\"Student Age:\", age)\r\n",
    "print(\"Student Score:\", score)"
   ],
   "outputs": [],
   "metadata": {}
  },
  {
   "cell_type": "markdown",
   "source": [
    "<h2>Get a list of numbers as input</h2>\r\n",
    "\r\n",
    "<p style=\"color:green; font-size:15px;\">But what happens when you are not aware of the number of input values?\r\n",
    "Let us suppose that you need to enter a list of numbers and return their sum. You are not aware of the number of elements in that list.How do we input this list?</p>"
   ],
   "metadata": {}
  },
  {
   "cell_type": "code",
   "execution_count": null,
   "source": [
    "entered_list = input(\"Enter a list of numbers separated by space: \").split()\r\n",
    "print('Intermediate_list: ',entered_list)\r\n",
    "\r\n",
    "num_list = list(map(int,entered_list))\r\n",
    "print('Number List: ',num_list)\r\n",
    "print('List sum:', sum(num_list))"
   ],
   "outputs": [],
   "metadata": {}
  },
  {
   "cell_type": "markdown",
   "source": [
    "<h2>Multi-Line input from a user</h2>"
   ],
   "metadata": {}
  },
  {
   "cell_type": "code",
   "execution_count": null,
   "source": [
    "total_input = []\r\n",
    "print(\"Enter Student Names: \")\r\n",
    "\r\n",
    "while True:\r\n",
    "    name = input()\r\n",
    "    if name:\r\n",
    "        total_input.append(name)\r\n",
    "    else:\r\n",
    "        break\r\n",
    "\r\n",
    "print('Total input received :')\r\n",
    "print(total_input)"
   ],
   "outputs": [],
   "metadata": {}
  },
  {
   "cell_type": "markdown",
   "source": [
    "<h2>A little Bit About MAP Function</h2>\r\n",
    "\r\n",
    "<p><b>map()</b> function returns a map object(which is an iterator) of the results after applying the given function to each item of a given iterable (list, tuple etc.). Its syntax is <code>map(fun, iter)</code></p>"
   ],
   "metadata": {}
  },
  {
   "cell_type": "code",
   "execution_count": null,
   "source": [
    "def addition(n):\r\n",
    "    return n + n\r\n",
    "  \r\n",
    "numbers = (1, 2, 3, 4)\r\n",
    "result = map(addition, numbers)\r\n",
    "print(list(result))"
   ],
   "outputs": [],
   "metadata": {}
  },
  {
   "cell_type": "code",
   "execution_count": null,
   "source": [
    "numbers = (1, 2, 3, 4)\r\n",
    "result = map(lambda x: x + x, numbers)\r\n",
    "print(result)\r\n",
    "print(list(result))"
   ],
   "outputs": [],
   "metadata": {}
  },
  {
   "cell_type": "code",
   "execution_count": null,
   "source": [
    "numbers1 = [1, 2, 3]\r\n",
    "numbers2 = [4, 5, 6]\r\n",
    "\r\n",
    "addList = lambda x, y: x + y\r\n",
    "result = map(addList, numbers1, numbers2)\r\n",
    "print(result)\r\n",
    "print(list(result))"
   ],
   "outputs": [],
   "metadata": {}
  },
  {
   "cell_type": "code",
   "execution_count": null,
   "source": [
    "lst = ['sat', 'bat', 'cat', 'mat']\r\n",
    "newLst = map(list, lst)\r\n",
    "print(newLst)\r\n",
    "print(list(newLst))"
   ],
   "outputs": [],
   "metadata": {}
  },
  {
   "cell_type": "markdown",
   "source": [
    "<h2>Python String <b>split()</b> Method</h2>\r\n",
    "\r\n",
    "<p>The <i>split()</i> method splits a string into a list. One can specify the separator, default separator is any whitespace. The syntax is <code>string.split(separator, maxsplit)</code>. The <i>separator</i> is optional. It specifies the separator to use when splitting the string. By default any whitespace is a separator.\r\n",
    "\r\n",
    "The parameter <i>maxsplit</i> is also optional. It specifies how many splits to do. Default value is -1, which is \"all occurrences\"</p>"
   ],
   "metadata": {}
  },
  {
   "cell_type": "code",
   "execution_count": null,
   "source": [
    "txt = \"welcome to the jungle\"\r\n",
    "\r\n",
    "x = txt.split()\r\n",
    "\r\n",
    "print(x)"
   ],
   "outputs": [],
   "metadata": {}
  },
  {
   "cell_type": "code",
   "execution_count": null,
   "source": [
    "txt = \"hello, my name is Peter, I am 26 years old\"\r\n",
    "\r\n",
    "x = txt.split(\" , \")\r\n",
    "\r\n",
    "print(x)"
   ],
   "outputs": [],
   "metadata": {}
  },
  {
   "cell_type": "code",
   "execution_count": null,
   "source": [
    "txt = \"apple#banana#cherry#orange\"\r\n",
    "\r\n",
    "x = txt.split(\"#\", 1)\r\n",
    "\r\n",
    "print(x)"
   ],
   "outputs": [],
   "metadata": {}
  },
  {
   "cell_type": "markdown",
   "source": [
    "<h2>Python Random Module</h2>"
   ],
   "metadata": {}
  },
  {
   "cell_type": "markdown",
   "source": [
    "<p style=\"font-size: 15px;\">Random seed() Method</p>\r\n",
    "<li>The <code>seed()</code> method is used to initialize the random number generator. The random number generator needs a number to start with (a seed value), to be able to generate a random number. By default the random number generator uses the current system time.</li>"
   ],
   "metadata": {}
  },
  {
   "cell_type": "code",
   "execution_count": null,
   "source": [
    "import random\r\n",
    "\r\n",
    "random.seed(10)\r\n",
    "print(random.random())"
   ],
   "outputs": [],
   "metadata": {}
  },
  {
   "cell_type": "code",
   "execution_count": null,
   "source": [
    "import random\r\n",
    "\r\n",
    "random.seed(10)\r\n",
    "print(random.random())\r\n",
    "\r\n",
    "random.seed(10)\r\n",
    "print(random.random())"
   ],
   "outputs": [],
   "metadata": {}
  },
  {
   "cell_type": "markdown",
   "source": [
    "<p style=\"font-size:15px;\">Random randrange() Method</p>\r\n",
    "\r\n",
    "<li>The <code>randrange()</code> method returns a randomly selected element from the specified range. its syntax is <code>random.randrange(start, stop, step)</code>."
   ],
   "metadata": {}
  },
  {
   "cell_type": "code",
   "execution_count": null,
   "source": [
    "import random\r\n",
    "\r\n",
    "print(random.randrange(3, 9))"
   ],
   "outputs": [],
   "metadata": {}
  },
  {
   "cell_type": "markdown",
   "source": [
    "<p style=\"font-size: 15px;\">Random randint() Method</p>\r\n",
    "<li>The <b>randint()</b> method returns an integer number selected element from the specified range. Its syntax is <code>random.randint(start, stop)</code>."
   ],
   "metadata": {}
  },
  {
   "cell_type": "code",
   "execution_count": null,
   "source": [
    "import random\r\n",
    "\r\n",
    "print(random.randint(3, 9))"
   ],
   "outputs": [],
   "metadata": {}
  },
  {
   "cell_type": "markdown",
   "source": [
    "<p style=\"font-size: 15px;\">Random choice() Method</p>\r\n",
    "\r\n",
    "<li>The <b>choice()</b> method returns a randomly selected element from the specified sequence. The sequence can be a string, a range, a list, a tuple or any other kind of sequence. Its syntax is <code>random.choice(sequence)</code>."
   ],
   "metadata": {}
  },
  {
   "cell_type": "code",
   "execution_count": null,
   "source": [
    "import random\r\n",
    "\r\n",
    "mylist = [\"apple\", \"banana\", \"cherry\"]\r\n",
    "\r\n",
    "print(random.choice(mylist))"
   ],
   "outputs": [],
   "metadata": {}
  },
  {
   "cell_type": "code",
   "execution_count": null,
   "source": [
    "import random\r\n",
    "\r\n",
    "x = \"WELCOME\"\r\n",
    "\r\n",
    "print(random.choice(x))"
   ],
   "outputs": [],
   "metadata": {}
  },
  {
   "cell_type": "markdown",
   "source": [
    "<h2 style=\"color:silver;\">Write a Python program to find out the sum of digits of a three digit number. However, if two digits are then sum will be zero.<h2>"
   ],
   "metadata": {}
  },
  {
   "cell_type": "markdown",
   "source": [
    "<h2 style=\"color:silver;\">Write a Python program to get the difference between an user given number and 17, if the number is greater than 17 return double the absolute difference.<h2>"
   ],
   "metadata": {}
  }
 ],
 "metadata": {
  "orig_nbformat": 4,
  "language_info": {
   "name": "python",
   "version": "3.8.5",
   "mimetype": "text/x-python",
   "codemirror_mode": {
    "name": "ipython",
    "version": 3
   },
   "pygments_lexer": "ipython3",
   "nbconvert_exporter": "python",
   "file_extension": ".py"
  },
  "kernelspec": {
   "name": "python3",
   "display_name": "Python 3.8.5 64-bit ('cs_gpu': venv)"
  },
  "interpreter": {
   "hash": "055c985b3c42157a18398395aaa24b5284454875fde08806019e18e68929a4a2"
  }
 },
 "nbformat": 4,
 "nbformat_minor": 2
}