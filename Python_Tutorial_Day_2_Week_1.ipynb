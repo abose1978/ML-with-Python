{
 "cells": [
  {
   "cell_type": "markdown",
   "source": [
    "<h1 style=\"color: blue;\">Python Data Types</h1>"
   ],
   "metadata": {}
  },
  {
   "cell_type": "markdown",
   "source": [
    "In programming, data type is an important concept.\n",
    "\n",
    "Variables can store data of different types, and different types can do different things.\n",
    "\n",
    "Python has the following data types built-in by default, in these categories:\n",
    "<ul>\n",
    "    <li>Text Type:\t<i><b>str</b></i></li>\n",
    "    <li>Numeric Types:\t<i><b>int, float, complex</b></i></li>\n",
    "    <li>Sequence Types:\t<i><b>list, tuple, range</b></i></li>\n",
    "    <li>Mapping Type:\t<i><b>dict</b></i></li>\n",
    "    <li>Set Types:\t<i><b>set, frozenset</b></i></li>\n",
    "    <li>Boolean Type:\t<i><b>bool</b></i></li>\n",
    "        <li>Binary Types:\t<i><b>bytes, bytearray, memoryview</b></i></li>\n",
    "</ul>"
   ],
   "metadata": {}
  },
  {
   "cell_type": "code",
   "execution_count": null,
   "source": [
    "x = 5\r\n",
    "print(type(x))"
   ],
   "outputs": [],
   "metadata": {}
  },
  {
   "cell_type": "markdown",
   "source": [
    "1. x = \"Hello World\"\t(str)\t\n",
    "2. x = 20\t(int)\t\n",
    "3. x = 20.5\t(float)\t\n",
    "4. x = 1j\t(complex)\t\n",
    "5. x = [\"apple\", \"banana\", \"cherry\"]\t(list)\t\n",
    "6. x = (\"apple\", \"banana\", \"cherry\")\t(tuple)\t\n",
    "7. x = range(6)\t(range)\t\n",
    "8. x = {\"name\" : \"John\", \"age\" : 36}\t(dict)\t\n",
    "9. x = {\"apple\", \"banana\", \"cherry\"}\t(set)\t\n",
    "10. x = frozenset({\"apple\", \"banana\", \"cherry\"})\t(frozenset)\t\n",
    "11. x = True\t(bool)\t\n",
    "12. x = b\"Hello\"\t(bytes)\t\n",
    "13. x = bytearray(5)\t(bytearray)\t\n",
    "14. x = memoryview(bytes(5))  (memoryview)"
   ],
   "metadata": {}
  },
  {
   "cell_type": "markdown",
   "source": [
    "<h1 style=\"color: blue;\">Random Number</h1>"
   ],
   "metadata": {}
  },
  {
   "cell_type": "code",
   "execution_count": null,
   "source": [
    "import random\r\n",
    "\r\n",
    "random.seed(10)\r\n",
    "print(random.random())"
   ],
   "outputs": [],
   "metadata": {}
  },
  {
   "cell_type": "code",
   "execution_count": null,
   "source": [
    "import random\r\n",
    "\r\n",
    "print(random.randrange(3, 9))"
   ],
   "outputs": [],
   "metadata": {}
  },
  {
   "cell_type": "code",
   "execution_count": null,
   "source": [
    "import random\r\n",
    "\r\n",
    "print(random.randint(3, 9))"
   ],
   "outputs": [],
   "metadata": {}
  },
  {
   "cell_type": "code",
   "execution_count": null,
   "source": [
    "import random\r\n",
    "\r\n",
    "mylist = [\"apple\", \"banana\", \"cherry\"]\r\n",
    "\r\n",
    "print(random.choice(mylist))"
   ],
   "outputs": [],
   "metadata": {}
  },
  {
   "cell_type": "code",
   "execution_count": null,
   "source": [
    "import random\r\n",
    "\r\n",
    "mylist = [\"apple\", \"banana\", \"cherry\"]\r\n",
    "random.shuffle(mylist)\r\n",
    "\r\n",
    "print(mylist)"
   ],
   "outputs": [],
   "metadata": {}
  },
  {
   "cell_type": "code",
   "execution_count": null,
   "source": [
    "import random\r\n",
    "\r\n",
    "def myfunction():\r\n",
    "  return 0.1\r\n",
    "\r\n",
    "mylist = [\"apple\", \"banana\", \"cherry\"]\r\n",
    "random.shuffle(mylist, myfunction)\r\n",
    "\r\n",
    "print(mylist)"
   ],
   "outputs": [],
   "metadata": {}
  },
  {
   "cell_type": "code",
   "execution_count": null,
   "source": [
    "import random\r\n",
    "\r\n",
    "mylist = [\"apple\", \"banana\", \"cherry\"]\r\n",
    "\r\n",
    "print(random.sample(mylist, k=2))"
   ],
   "outputs": [],
   "metadata": {}
  },
  {
   "cell_type": "markdown",
   "source": [
    "<h1 style=\"color: blue;\">Boolean Data Type</h1>"
   ],
   "metadata": {}
  },
  {
   "cell_type": "markdown",
   "source": [
    "x = \"Hello\"\n",
    "y = 15\n",
    "\n",
    "print(bool(x))\n",
    "print(bool(y))"
   ],
   "metadata": {}
  },
  {
   "cell_type": "code",
   "execution_count": null,
   "source": [
    "bool(False)\r\n",
    "bool(None)\r\n",
    "bool(0)\r\n",
    "bool(\"\")\r\n",
    "bool(())\r\n",
    "bool([])\r\n",
    "bool({}) "
   ],
   "outputs": [],
   "metadata": {}
  },
  {
   "cell_type": "code",
   "execution_count": null,
   "source": [
    "def myFunction():\r\n",
    "    return True\r\n",
    "\r\n",
    "print(myFunction()) "
   ],
   "outputs": [],
   "metadata": {}
  },
  {
   "cell_type": "code",
   "execution_count": null,
   "source": [
    "def myFunction():\r\n",
    "    return True\r\n",
    "\r\n",
    "if myFunction():\r\n",
    "  print(\"YES!\")\r\n",
    "else:\r\n",
    "  print(\"NO!\") "
   ],
   "outputs": [],
   "metadata": {}
  },
  {
   "cell_type": "code",
   "execution_count": null,
   "source": [
    "x = 200\r\n",
    "print(isinstance(x, int)) "
   ],
   "outputs": [],
   "metadata": {}
  },
  {
   "cell_type": "markdown",
   "source": [
    "<h1 style=\"color: blue;\">Set Data Type</h1>"
   ],
   "metadata": {}
  },
  {
   "cell_type": "code",
   "execution_count": null,
   "source": [
    "thisset = {\"apple\", \"banana\", \"cherry\"}\r\n",
    "print(thisset)"
   ],
   "outputs": [],
   "metadata": {}
  },
  {
   "cell_type": "code",
   "execution_count": null,
   "source": [
    "thisset = {\"apple\", \"banana\", \"cherry\", \"apple\"}\r\n",
    "\r\n",
    "print(thisset)"
   ],
   "outputs": [],
   "metadata": {}
  },
  {
   "cell_type": "code",
   "execution_count": null,
   "source": [
    "thisset = set((\"apple\", \"banana\", \"cherry\")) # note the double round-brackets\r\n",
    "print(thisset)"
   ],
   "outputs": [],
   "metadata": {}
  },
  {
   "cell_type": "code",
   "execution_count": null,
   "source": [
    "nu = (1, 2, 3, 4, 5, 6, 7, 8, 9)\r\n",
    " \r\n",
    "fnum = frozenset(nu)\r\n",
    " \r\n",
    "print(\"frozenset Object is : \", fnum)"
   ],
   "outputs": [],
   "metadata": {}
  },
  {
   "cell_type": "markdown",
   "source": [
    "<h1 style=\"color: blue;\">Tuple Data Type</h1>"
   ],
   "metadata": {}
  },
  {
   "cell_type": "code",
   "execution_count": null,
   "source": [
    "thistuple = (\"apple\", \"banana\", \"cherry\")\r\n",
    "print(thistuple)"
   ],
   "outputs": [],
   "metadata": {}
  },
  {
   "cell_type": "code",
   "execution_count": null,
   "source": [
    "thistuple = (\"apple\", \"banana\", \"cherry\", \"apple\", \"cherry\")\r\n",
    "print(thistuple)"
   ],
   "outputs": [],
   "metadata": {}
  },
  {
   "cell_type": "code",
   "execution_count": null,
   "source": [
    "thistuple = tuple((\"apple\", \"banana\", \"cherry\")) # note the double round-brackets\r\n",
    "print(thistuple)"
   ],
   "outputs": [],
   "metadata": {}
  },
  {
   "cell_type": "markdown",
   "source": [
    "<h1 style=\"color: blue;\">Dictionary</h1>"
   ],
   "metadata": {}
  },
  {
   "cell_type": "code",
   "execution_count": null,
   "source": [
    "thisdict = {\r\n",
    "  \"brand\": \"Ford\",\r\n",
    "  \"model\": \"Mustang\",\r\n",
    "  \"year\": 1964\r\n",
    "}\r\n",
    "print(thisdict)"
   ],
   "outputs": [],
   "metadata": {}
  },
  {
   "cell_type": "code",
   "execution_count": null,
   "source": [
    "thisdict = {\r\n",
    "  \"brand\": \"Ford\",\r\n",
    "  \"model\": \"Mustang\",\r\n",
    "  \"year\": 1964\r\n",
    "}\r\n",
    "print(thisdict[\"brand\"])"
   ],
   "outputs": [],
   "metadata": {}
  },
  {
   "cell_type": "code",
   "execution_count": null,
   "source": [
    "thisdict = {\r\n",
    "  \"brand\": \"Ford\",\r\n",
    "  \"model\": \"Mustang\",\r\n",
    "  \"year\": 1964,\r\n",
    "  \"year\": 2020\r\n",
    "}\r\n",
    "print(thisdict)"
   ],
   "outputs": [],
   "metadata": {}
  },
  {
   "cell_type": "code",
   "execution_count": null,
   "source": [
    "x = thisdict.get(\"model\")\r\n",
    "print(x)"
   ],
   "outputs": [],
   "metadata": {}
  },
  {
   "cell_type": "code",
   "execution_count": null,
   "source": [
    "x = thisdict.keys()\r\n",
    "print(x)"
   ],
   "outputs": [],
   "metadata": {}
  },
  {
   "cell_type": "code",
   "execution_count": null,
   "source": [
    "car = {\r\n",
    "\"brand\": \"Ford\",\r\n",
    "\"model\": \"Mustang\",\r\n",
    "\"year\": 1964\r\n",
    "}\r\n",
    "\r\n",
    "x = car.keys()\r\n",
    "\r\n",
    "print(x) #before the change\r\n",
    "\r\n",
    "car[\"color\"] = \"white\"\r\n",
    "\r\n",
    "print(x) #after the change"
   ],
   "outputs": [],
   "metadata": {}
  },
  {
   "cell_type": "code",
   "execution_count": null,
   "source": [
    "x = thisdict.values()\r\n",
    "print(x)"
   ],
   "outputs": [],
   "metadata": {}
  },
  {
   "cell_type": "code",
   "execution_count": null,
   "source": [
    "car = {\r\n",
    "\"brand\": \"Ford\",\r\n",
    "\"model\": \"Mustang\",\r\n",
    "\"year\": 1964\r\n",
    "}\r\n",
    "\r\n",
    "x = car.values()\r\n",
    "\r\n",
    "print(x) #before the change\r\n",
    "\r\n",
    "car[\"year\"] = 2020\r\n",
    "\r\n",
    "print(x) #after the change"
   ],
   "outputs": [],
   "metadata": {}
  },
  {
   "cell_type": "code",
   "execution_count": null,
   "source": [
    "thisdict = {\r\n",
    "  \"brand\": \"Ford\",\r\n",
    "  \"model\": \"Mustang\",\r\n",
    "  \"year\": 1964\r\n",
    "}\r\n",
    "thisdict.update({\"year\": 2020})\r\n",
    "print(thisdict)"
   ],
   "outputs": [],
   "metadata": {}
  },
  {
   "cell_type": "code",
   "execution_count": null,
   "source": [
    "car = {\r\n",
    "\"brand\": \"Ford\",\r\n",
    "\"model\": \"Mustang\",\r\n",
    "\"year\": 1964\r\n",
    "}\r\n",
    "\r\n",
    "x = car.values()\r\n",
    "\r\n",
    "print(x) #before the change\r\n",
    "\r\n",
    "car[\"color\"] = \"red\"\r\n",
    "\r\n",
    "print(x) #after the change"
   ],
   "outputs": [],
   "metadata": {}
  },
  {
   "cell_type": "code",
   "execution_count": null,
   "source": [
    "x = thisdict.items()\r\n",
    "print(x)"
   ],
   "outputs": [],
   "metadata": {}
  },
  {
   "cell_type": "code",
   "execution_count": null,
   "source": [
    "thisdict = {\r\n",
    "  \"brand\": \"Ford\",\r\n",
    "  \"model\": \"Mustang\",\r\n",
    "  \"year\": 1964\r\n",
    "}\r\n",
    "thisdict.pop(\"model\")\r\n",
    "print(thisdict)"
   ],
   "outputs": [],
   "metadata": {}
  },
  {
   "cell_type": "code",
   "execution_count": null,
   "source": [
    "for x, y in thisdict.items():\r\n",
    "  print(x, y)"
   ],
   "outputs": [],
   "metadata": {}
  },
  {
   "cell_type": "code",
   "execution_count": null,
   "source": [
    "thisdict = {\r\n",
    "  \"brand\": \"Ford\",\r\n",
    "  \"model\": \"Mustang\",\r\n",
    "  \"year\": 1964\r\n",
    "}\r\n",
    "mydict = thisdict.copy()\r\n",
    "print(mydict)"
   ],
   "outputs": [],
   "metadata": {}
  },
  {
   "cell_type": "code",
   "execution_count": null,
   "source": [
    "thisdict = {\r\n",
    "  \"brand\": \"Ford\",\r\n",
    "  \"model\": \"Mustang\",\r\n",
    "  \"year\": 1964\r\n",
    "}\r\n",
    "mydict = dict(thisdict)\r\n",
    "print(mydict)"
   ],
   "outputs": [],
   "metadata": {}
  },
  {
   "cell_type": "code",
   "execution_count": null,
   "source": [],
   "outputs": [],
   "metadata": {}
  }
 ],
 "metadata": {
  "kernelspec": {
   "name": "python3",
   "display_name": "Python 3.8.5 64-bit ('cs_gpu': venv)"
  },
  "language_info": {
   "codemirror_mode": {
    "name": "ipython",
    "version": 3
   },
   "file_extension": ".py",
   "mimetype": "text/x-python",
   "name": "python",
   "nbconvert_exporter": "python",
   "pygments_lexer": "ipython3",
   "version": "3.8.5"
  },
  "varInspector": {
   "cols": {
    "lenName": 16,
    "lenType": 16,
    "lenVar": 40
   },
   "kernels_config": {
    "python": {
     "delete_cmd_postfix": "",
     "delete_cmd_prefix": "del ",
     "library": "var_list.py",
     "varRefreshCmd": "print(var_dic_list())"
    },
    "r": {
     "delete_cmd_postfix": ") ",
     "delete_cmd_prefix": "rm(",
     "library": "var_list.r",
     "varRefreshCmd": "cat(var_dic_list()) "
    }
   },
   "types_to_exclude": [
    "module",
    "function",
    "builtin_function_or_method",
    "instance",
    "_Feature"
   ],
   "window_display": false
  },
  "interpreter": {
   "hash": "055c985b3c42157a18398395aaa24b5284454875fde08806019e18e68929a4a2"
  }
 },
 "nbformat": 4,
 "nbformat_minor": 5
}